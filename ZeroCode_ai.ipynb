{
  "nbformat": 4,
  "nbformat_minor": 0,
  "metadata": {
    "colab": {
      "provenance": []
    },
    "kernelspec": {
      "name": "python3",
      "display_name": "Python 3"
    },
    "language_info": {
      "name": "python"
    }
  },
  "cells": [
    {
      "cell_type": "markdown",
      "source": [
        "Task-1\n"
      ],
      "metadata": {
        "id": "k4d8HKcnq7i6"
      }
    },
    {
      "cell_type": "code",
      "execution_count": null,
      "metadata": {
        "id": "0yQw-7AzqyXt"
      },
      "outputs": [],
      "source": [
        "import os\n",
        "import pytesseract\n",
        "from PIL import Image\n",
        "from pdf2image import convert_from_path\n",
        "from langchain.chat_models import ChatOpenAI\n",
        "from langchain.chains import LLMChain\n",
        "from langchain.prompts import PromptTemplate\n",
        "from dotenv import load_dotenv\n",
        "\n",
        "load_dotenv()\n",
        "OPENAI_API_KEY = os.getenv(\"OPENAI_API_KEY\")\n",
        "\n",
        "llm = ChatOpenAI(model=\"gpt-4\", temperature=0.7)\n",
        "\n",
        "def extract_text_from_pdf(pdf_path):\n",
        "    images = convert_from_path(pdf_path)\n",
        "    text = \"\"\n",
        "    for img in images:\n",
        "        text += pytesseract.image_to_string(img)\n",
        "    return text\n",
        "\n",
        "def process_identity(persona_text, ocr_text, image_description):\n",
        "    prompt = PromptTemplate(\n",
        "        input_variables=[\"persona\", \"ocr\", \"visual\"],\n",
        "        template=\"\"\"\n",
        "        Given the customer persona: \"{persona}\"\n",
        "        and extracted document content: \"{ocr}\"\n",
        "        and visual logo description: \"{visual}\",\n",
        "        generate a structured identity vector in JSON format with:\n",
        "        - brand_keywords\n",
        "        - dominant_font\n",
        "        - primary_colors\n",
        "        - style_attributes\n",
        "        - persona_theme\n",
        "        \"\"\"\n",
        "    )\n",
        "    chain = LLMChain(llm=llm, prompt=prompt)\n",
        "    return chain.run(persona=persona_text, ocr=ocr_text, visual=image_description)\n",
        "\n",
        "if __name__ == \"__main__\":\n",
        "    persona = open(\"sample_persona.txt\").read()\n",
        "    ocr_text = extract_text_from_pdf(\"assets/sample_doc.pdf\")\n",
        "    image_description = \"A sleek modern tech logo with blue and black gradients and sans-serif typography.\"\n",
        "\n",
        "    output = process_identity(persona, ocr_text, image_description)\n",
        "    print(\"Generated Identity Vector:\\n\", output)\n"
      ]
    },
    {
      "cell_type": "markdown",
      "source": [
        "Task-2"
      ],
      "metadata": {
        "id": "xjCj-urIq_Wy"
      }
    },
    {
      "cell_type": "code",
      "source": [
        "import os\n",
        "from dotenv import load_dotenv\n",
        "from langchain.chat_models import ChatOpenAI\n",
        "from langchain.chains import LLMChain\n",
        "from langchain.prompts import PromptTemplate\n",
        "\n",
        "load_dotenv()\n",
        "OPENAI_API_KEY = os.getenv(\"OPENAI_API_KEY\")\n",
        "\n",
        "llm = ChatOpenAI(model=\"gpt-4\", temperature=0.7)\n",
        "\n",
        "def interpret_theme(prompt_description, color_palette, style_keywords):\n",
        "    prompt = PromptTemplate(\n",
        "        input_variables=[\"desc\", \"colors\", \"style\"],\n",
        "        template=\"\"\"\n",
        "        Given a theme prompt: \"{desc}\"\n",
        "        and visual attributes:\n",
        "        - colors: {colors}\n",
        "        - styles: {style}\n",
        "        Generate a structured UI theme configuration in JSON format.\n",
        "        \"\"\"\n",
        "    )\n",
        "    chain = LLMChain(llm=llm, prompt=prompt)\n",
        "    return chain.run(desc=prompt_description, colors=color_palette, style=style_keywords)\n",
        "\n",
        "if __name__ == \"__main__\":\n",
        "    prompt_description = \"Futuristic neon vibe for interactive UI\"\n",
        "    color_palette = [\"#0D0D0D\", \"#9F00FF\", \"#00FFC6\"]\n",
        "    style_keywords = [\"cyberpunk\", \"glow\", \"minimal\", \"high-contrast\"]\n",
        "\n",
        "    output = interpret_theme(prompt_description, color_palette, style_keywords)\n",
        "    print(\"Theme Config JSON:\\n\", output)\n"
      ],
      "metadata": {
        "id": "3lm_s2nLrAg0"
      },
      "execution_count": null,
      "outputs": []
    }
  ]
}